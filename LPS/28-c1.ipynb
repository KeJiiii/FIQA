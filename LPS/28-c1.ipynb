{
 "cells": [
  {
   "cell_type": "code",
   "execution_count": null,
   "metadata": {},
   "outputs": [],
   "source": [
    "import os\n",
    "import tkinter as tk\n",
    "from tkinter import filedialog\n",
    "from matplotlib import pyplot as plt \n",
    "import numpy as np\n",
    "import pandas as pd\n",
    "import seaborn as sns\n",
    "root = tk.Tk()\n",
    "root.withdraw()\n",
    "path = filedialog.askdirectory()"
   ]
  },
  {
   "cell_type": "code",
   "execution_count": null,
   "metadata": {},
   "outputs": [],
   "source": [
    "#for kinetic\n",
    "os.chdir(path)\n",
    "files = os.listdir(path)\n",
    "\n",
    "ccc= pd.DataFrame()\n",
    "\n",
    "for file in files:\n",
    "    if (\".csv\" ) in file and (\"ch1_\") in file and (\"28_c1\") in file:\n",
    "        #print(file)\n",
    "        cc = pd.DataFrame()\n",
    "        a=pd.read_csv(file,dtype=np.float64)\n",
    "        \n",
    "        new_file=\"list_ch2\"+file.split(\"ch1\")[1]\n",
    "        \n",
    "        fishnumber=file.split(\"_\")[-1].split(\".\")[0]\n",
    "        b=pd.read_csv(new_file,dtype=np.float64)       \n",
    "        c=(a[\"Mean1\"] / b[\"Mean1\"])\n",
    "        cc[\"ratio\"]=c\n",
    "        cc[\"timepoint\"]=a.iloc[:,0]\n",
    "        if (int(fishnumber.split(\"G\")[1]) < 9 and int(fishnumber.split(\"G\")[1]) > 0):\n",
    "            cc.insert(cc.shape[1],\"challenge\",\"lps\")\n",
    "        else:\n",
    "            cc.insert(cc.shape[1],\"challenge\",\"pbs\")\n",
    "        cc.insert(cc.shape[1],\"fishnumber\",fishnumber)\n",
    "        ccc=pd.concat([ccc,cc],ignore_index=True)\n",
    "\n",
    "print(ccc)\n",
    "#ccc.to_csv('all.csv')\n",
    "plt.figure(figsize=(5, 5), dpi= 120, facecolor='w', edgecolor='k')\n",
    "plt.ylabel('488/405',fontsize = 16)\n",
    "plt.xlabel('Hours',fontsize = 16)\n",
    "#df.plot.box(title=\"\")\n",
    "plt.grid(linestyle=\"--\", alpha=0.3)\n",
    "sns.lineplot(data=ccc,x=\"timepoint\",y=\"ratio\",hue=\"challenge\",markers=True,ci=95)\n",
    "plt.title(\"28-c1\",size=20)\n",
    "plt.gca().set( ylim=(0.5, 1.0))\n",
    "plt.show()\n"
   ]
  }
 ],
 "metadata": {
  "interpreter": {
   "hash": "4096569c82f5ea0b18ec530f3b98ca698caf53fba92366440b3bb0912bc8bb6e"
  },
  "kernelspec": {
   "display_name": "Python 3.7.9 64-bit ('3.7': conda)",
   "name": "python3"
  },
  "language_info": {
   "codemirror_mode": {
    "name": "ipython",
    "version": 3
   },
   "file_extension": ".py",
   "mimetype": "text/x-python",
   "name": "python",
   "nbconvert_exporter": "python",
   "pygments_lexer": "ipython3",
   "version": "3.7.9"
  },
  "orig_nbformat": 4
 },
 "nbformat": 4,
 "nbformat_minor": 2
}
