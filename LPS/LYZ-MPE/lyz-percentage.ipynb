{
 "cells": [
  {
   "cell_type": "code",
   "execution_count": null,
   "metadata": {},
   "outputs": [],
   "source": [
    "import os\n",
    "import tkinter as tk\n",
    "from tkinter import filedialog\n",
    "from matplotlib import pyplot as plt \n",
    "import numpy as np\n",
    "import pandas as pd\n",
    "import seaborn as sns\n",
    "root = tk.Tk()\n",
    "root.withdraw()\n",
    "path = filedialog.askdirectory()\n"
   ]
  },
  {
   "cell_type": "code",
   "execution_count": null,
   "metadata": {},
   "outputs": [],
   "source": [
    "\n",
    "\n",
    "# for lyz\n",
    "os.chdir(path)\n",
    "files = os.listdir(path)\n",
    "\n",
    "ccc= pd.DataFrame()\n",
    "\n",
    "for file in files:\n",
    "    if (\".csv\" ) in file and (\"yolk\") in file:\n",
    "        c = pd.DataFrame()\n",
    "        challenge= file.split(\"-\")[2].split(\".\")[0]\n",
    "        filename=\"whole\"+file.split(\"yolk\")[1]\n",
    "        a=pd.read_csv(file,dtype=np.float64)\n",
    "        b=pd.read_csv(filename,dtype=np.float64)\n",
    "        c=a/b\n",
    "        if (\"lps\") in file:\n",
    "                c=c.drop(labels='G001',axis=1)  # drop G001 column \n",
    "                c[\"slice\"]=np.arange(0,10)\n",
    "        if (\"pbs\") in file:\n",
    "                c[\"slice\"]=np.arange(0,11)\n",
    "\n",
    "        c=c.melt(id_vars=\"slice\")\n",
    "        c.insert(c.shape[1],\"challenge\",challenge)\n",
    "        #b=pd.read_csv(\"whole\"+file.split(\"yolk\")[1],dtype=np.float64)\n",
    "        ccc=pd.concat([ccc,c],ignore_index=True)\n",
    "\n",
    "print(ccc)\n"
   ]
  },
  {
   "cell_type": "code",
   "execution_count": null,
   "metadata": {},
   "outputs": [],
   "source": [
    "#ccc.to_csv('all.csv')\n",
    "\n",
    "plt.figure(figsize=(10, 5), dpi= 120, facecolor='w', edgecolor='k')\n",
    "plt.ylabel('488/405',fontsize = 16)\n",
    "#df.plot.box(title=\"\")\n",
    "plt.grid(linestyle=\"--\", alpha=0.3)\n",
    "sns.lineplot(data=ccc,x=\"slice\",y=\"value\",hue=\"challenge\",markers=True,ci=95)\n",
    "plt.title(\"lyz-yolk\",size=20)\n",
    "plt.gca().set( ylim=(0, 1),xlabel='Hours', ylabel='Count')\n",
    "plt.show()"
   ]
  }
 ],
 "metadata": {
  "language_info": {
   "name": "python"
  },
  "orig_nbformat": 4
 },
 "nbformat": 4,
 "nbformat_minor": 2
}
