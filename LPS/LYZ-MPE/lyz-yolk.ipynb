{
 "cells": [
  {
   "cell_type": "code",
   "execution_count": null,
   "metadata": {},
   "outputs": [],
   "source": [
    "import os\n",
    "import tkinter as tk\n",
    "from tkinter import filedialog\n",
    "from matplotlib import pyplot as plt \n",
    "import numpy as np\n",
    "import pandas as pd\n",
    "import seaborn as sns\n",
    "root = tk.Tk()\n",
    "root.withdraw()\n",
    "path = filedialog.askdirectory()\n"
   ]
  },
  {
   "cell_type": "code",
   "execution_count": null,
   "metadata": {},
   "outputs": [],
   "source": [
    "\n",
    "\n",
    "# for lyz\n",
    "os.chdir(path)\n",
    "files = os.listdir(path)\n",
    "\n",
    "ccc= pd.DataFrame()\n",
    "\n",
    "for file in files:\n",
    "    if (\".csv\" ) in file and (\"yolk\") in file:\n",
    "        c = pd.DataFrame()\n",
    "        challenge= file.split(\"-\")[2].split(\".\")[0]\n",
    "        a=pd.read_csv(file,dtype=np.float64)\n",
    "        if (\"lps\") in file:\n",
    "                a=a.drop(labels='G001',axis=1)\n",
    "        new_a=a.melt(id_vars=\"slice\")\n",
    "        new_a.insert(new_a.shape[1],\"challenge\",challenge)\n",
    "        if (\"lps\") in file:\n",
    "                new_a[\"slice\"]=(new_a[\"slice\"])\n",
    "        if (\"pbs\") in file:\n",
    "                new_a[\"slice\"]=new_a[\"slice\"]\n",
    "        #b=pd.read_csv(\"whole\"+file.split(\"yolk\")[1],dtype=np.float64)\n",
    "        ccc=pd.concat([ccc,new_a],ignore_index=True)\n",
    "\n",
    "print(ccc)\n"
   ]
  },
  {
   "cell_type": "code",
   "execution_count": null,
   "metadata": {},
   "outputs": [],
   "source": [
    "#ccc.to_csv('all.csv')\n",
    "\n",
    "plt.figure(figsize=(10, 5), dpi= 120, facecolor='w', edgecolor='k')\n",
    "plt.ylabel('488/405',fontsize = 16)\n",
    "#df.plot.box(title=\"\")\n",
    "plt.grid(linestyle=\"--\", alpha=0.3)\n",
    "sns.lineplot(data=ccc,x=\"slice\",y=\"value\",hue=\"challenge\",markers=True,ci=95)\n",
    "plt.title(\"lyz-yolk\",size=20)\n",
    "plt.gca().set( ylim=(0, 50),xlabel='Hours', ylabel='Count')\n",
    "plt.show()"
   ]
  }
 ],
 "metadata": {
  "interpreter": {
   "hash": "4096569c82f5ea0b18ec530f3b98ca698caf53fba92366440b3bb0912bc8bb6e"
  },
  "kernelspec": {
   "display_name": "Python 3.7.9 64-bit ('3.7': conda)",
   "name": "python3"
  },
  "language_info": {
   "codemirror_mode": {
    "name": "ipython",
    "version": 3
   },
   "file_extension": ".py",
   "mimetype": "text/x-python",
   "name": "python",
   "nbconvert_exporter": "python",
   "pygments_lexer": "ipython3",
   "version": "3.7.9"
  },
  "orig_nbformat": 4
 },
 "nbformat": 4,
 "nbformat_minor": 2
}
