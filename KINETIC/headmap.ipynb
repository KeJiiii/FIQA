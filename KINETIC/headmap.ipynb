{
 "cells": [
  {
   "cell_type": "code",
   "execution_count": 119,
   "metadata": {},
   "outputs": [
    {
     "name": "stdout",
     "output_type": "stream",
     "text": [
      "        0         5         10        15        20        25        30   \\\n",
      "3  0.009278 -0.009278  0.044529 -0.045316  0.019949  0.084473  0.103339   \n",
      "4  0.012237 -0.012237  0.009217  0.033527  0.099055  0.094602  0.094186   \n",
      "5  0.028075 -0.028075 -0.011404 -0.063075 -0.004983  0.016871  0.020366   \n",
      "\n",
      "        35        40        45   ...       130       135       140       145  \\\n",
      "3  0.051964  0.116538  0.194480  ...  0.412498  0.387730  0.453676  0.430411   \n",
      "4  0.120291  0.182309  0.173239  ...  0.341044  0.307975  0.310077  0.309436   \n",
      "5 -0.009430  0.048944  0.133755  ...  0.278013  0.293252  0.273981  0.313900   \n",
      "\n",
      "        150       155       160       165       170       175  \n",
      "3  0.417219  0.417341  0.442096  0.433842  0.433181  0.397743  \n",
      "4  0.341778  0.323684  0.296130  0.339498  0.334151  0.271786  \n",
      "5  0.314257  0.312103  0.337346  0.342932  0.352443  0.280537  \n",
      "\n",
      "[3 rows x 36 columns]\n"
     ]
    }
   ],
   "source": [
    "import matplotlib.pyplot as plt\n",
    "import numpy as np\n",
    "import pandas as pd\n",
    "from pandas import Series,DataFrame\n",
    "import seaborn as sns\n",
    "import palettable#python颜色库\n",
    "from sklearn import datasets \n",
    "\n",
    "\n",
    "plt.rcParams['font.sans-serif']=['SimHei']  # 用于显示中文\n",
    "plt.rcParams['axes.unicode_minus'] = False  # 用于显示中文\n",
    "\n",
    "iris=datasets.load_iris()\n",
    "x, y = iris.data, iris.target\n",
    "pd_iris = pd.DataFrame(np.hstack((x, y.reshape(150, 1))),columns=['sepal length(cm)','sepal width(cm)','petal length(cm)','petal width(cm)','class'] )\n",
    "\n",
    "\n",
    "data=\"C:\\\\Users\\\\pc\\\\Desktop\\\\20211118\\\\20211118.csv\"\n",
    "data1 = pd.read_excel(data)\n",
    "\n",
    "#print(data1)\n",
    "\n",
    "data1=data1.iloc[np.arange(3,6),np.arange(0,36)]\n",
    "print(data1)\n",
    "#c=data1.loc[:,1]\n",
    "#print(c)\n",
    "\n",
    "def normalize(df):\n",
    "    return df.div(c)\n",
    "#data2=data1.apply(normalize,axis=0)"
   ]
  },
  {
   "cell_type": "code",
   "execution_count": 120,
   "metadata": {},
   "outputs": [
    {
     "data": {
      "text/plain": [
       "<Figure size 600x400 with 0 Axes>"
      ]
     },
     "metadata": {},
     "output_type": "display_data"
    },
    {
     "data": {
      "image/png": "[encoded data removed]",
      "text/plain": [
       "<Figure size 2880x216 with 2 Axes>"
      ]
     },
     "metadata": {
      "needs_background": "light"
     },
     "output_type": "display_data"
    }
   ],
   "source": [
    "#print(data1)\n",
    "plt.figure(dpi=100)\n",
    "#print(df)\n",
    "f, ax = plt.subplots(figsize=(40, 3))\n",
    "ax=sns.heatmap(data=data1,vmin=-0.2,vmax=1,cmap='bwr',yticklabels=False,xticklabels=False)\n",
    "\n"
   ]
  }
 ],
 "metadata": {
  "interpreter": {
   "hash": "4096569c82f5ea0b18ec530f3b98ca698caf53fba92366440b3bb0912bc8bb6e"
  },
  "kernelspec": {
   "display_name": "Python 3.7.9 64-bit ('3.7': conda)",
   "name": "python3"
  },
  "language_info": {
   "codemirror_mode": {
    "name": "ipython",
    "version": 3
   },
   "file_extension": ".py",
   "mimetype": "text/x-python",
   "name": "python",
   "nbconvert_exporter": "python",
   "pygments_lexer": "ipython3",
   "version": "3.7.9"
  },
  "orig_nbformat": 4
 },
 "nbformat": 4,
 "nbformat_minor": 2
}
